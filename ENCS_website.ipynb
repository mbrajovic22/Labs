{
  "nbformat": 4,
  "nbformat_minor": 0,
  "metadata": {
    "colab": {
      "name": "ENCS_website.ipynb",
      "provenance": [],
      "authorship_tag": "ABX9TyOYoIuTgdRgpteYVRvd6sj8",
      "include_colab_link": true
    },
    "kernelspec": {
      "name": "python3",
      "display_name": "Python 3"
    },
    "language_info": {
      "name": "python"
    }
  },
  "cells": [
    {
      "cell_type": "markdown",
      "metadata": {
        "id": "view-in-github",
        "colab_type": "text"
      },
      "source": [
        "<a href=\"https://colab.research.google.com/github/mbrajovic22/Labs/blob/master/ENCS_website.ipynb\" target=\"_parent\"><img src=\"https://colab.research.google.com/assets/colab-badge.svg\" alt=\"Open In Colab\"/></a>"
      ]
    },
    {
      "cell_type": "code",
      "metadata": {
        "colab": {
          "resources": {
            "http://localhost:8080/ENCS_logo.png": {
              "data": "CjwhRE9DVFlQRSBodG1sPgo8aHRtbCBsYW5nPWVuPgogIDxtZXRhIGNoYXJzZXQ9dXRmLTg+CiAgPG1ldGEgbmFtZT12aWV3cG9ydCBjb250ZW50PSJpbml0aWFsLXNjYWxlPTEsIG1pbmltdW0tc2NhbGU9MSwgd2lkdGg9ZGV2aWNlLXdpZHRoIj4KICA8dGl0bGU+RXJyb3IgNDA0IChOb3QgRm91bmQpISExPC90aXRsZT4KICA8c3R5bGU+CiAgICAqe21hcmdpbjowO3BhZGRpbmc6MH1odG1sLGNvZGV7Zm9udDoxNXB4LzIycHggYXJpYWwsc2Fucy1zZXJpZn1odG1se2JhY2tncm91bmQ6I2ZmZjtjb2xvcjojMjIyO3BhZGRpbmc6MTVweH1ib2R5e21hcmdpbjo3JSBhdXRvIDA7bWF4LXdpZHRoOjM5MHB4O21pbi1oZWlnaHQ6MTgwcHg7cGFkZGluZzozMHB4IDAgMTVweH0qID4gYm9keXtiYWNrZ3JvdW5kOnVybCgvL3d3dy5nb29nbGUuY29tL2ltYWdlcy9lcnJvcnMvcm9ib3QucG5nKSAxMDAlIDVweCBuby1yZXBlYXQ7cGFkZGluZy1yaWdodDoyMDVweH1we21hcmdpbjoxMXB4IDAgMjJweDtvdmVyZmxvdzpoaWRkZW59aW5ze2NvbG9yOiM3Nzc7dGV4dC1kZWNvcmF0aW9uOm5vbmV9YSBpbWd7Ym9yZGVyOjB9QG1lZGlhIHNjcmVlbiBhbmQgKG1heC13aWR0aDo3NzJweCl7Ym9keXtiYWNrZ3JvdW5kOm5vbmU7bWFyZ2luLXRvcDowO21heC13aWR0aDpub25lO3BhZGRpbmctcmlnaHQ6MH19I2xvZ297YmFja2dyb3VuZDp1cmwoLy93d3cuZ29vZ2xlLmNvbS9pbWFnZXMvbG9nb3MvZXJyb3JwYWdlL2Vycm9yX2xvZ28tMTUweDU0LnBuZykgbm8tcmVwZWF0O21hcmdpbi1sZWZ0Oi01cHh9QG1lZGlhIG9ubHkgc2NyZWVuIGFuZCAobWluLXJlc29sdXRpb246MTkyZHBpKXsjbG9nb3tiYWNrZ3JvdW5kOnVybCgvL3d3dy5nb29nbGUuY29tL2ltYWdlcy9sb2dvcy9lcnJvcnBhZ2UvZXJyb3JfbG9nby0xNTB4NTQtMngucG5nKSBuby1yZXBlYXQgMCUgMCUvMTAwJSAxMDAlOy1tb3otYm9yZGVyLWltYWdlOnVybCgvL3d3dy5nb29nbGUuY29tL2ltYWdlcy9sb2dvcy9lcnJvcnBhZ2UvZXJyb3JfbG9nby0xNTB4NTQtMngucG5nKSAwfX1AbWVkaWEgb25seSBzY3JlZW4gYW5kICgtd2Via2l0LW1pbi1kZXZpY2UtcGl4ZWwtcmF0aW86Mil7I2xvZ297YmFja2dyb3VuZDp1cmwoLy93d3cuZ29vZ2xlLmNvbS9pbWFnZXMvbG9nb3MvZXJyb3JwYWdlL2Vycm9yX2xvZ28tMTUweDU0LTJ4LnBuZykgbm8tcmVwZWF0Oy13ZWJraXQtYmFja2dyb3VuZC1zaXplOjEwMCUgMTAwJX19I2xvZ297ZGlzcGxheTppbmxpbmUtYmxvY2s7aGVpZ2h0OjU0cHg7d2lkdGg6MTUwcHh9CiAgPC9zdHlsZT4KICA8YSBocmVmPS8vd3d3Lmdvb2dsZS5jb20vPjxzcGFuIGlkPWxvZ28gYXJpYS1sYWJlbD1Hb29nbGU+PC9zcGFuPjwvYT4KICA8cD48Yj40MDQuPC9iPiA8aW5zPlRoYXTigJlzIGFuIGVycm9yLjwvaW5zPgogIDxwPiAgPGlucz5UaGF04oCZcyBhbGwgd2Uga25vdy48L2lucz4K",
              "ok": false,
              "headers": [
                [
                  "content-length",
                  "1449"
                ],
                [
                  "content-type",
                  "text/html; charset=utf-8"
                ]
              ],
              "status": 404,
              "status_text": ""
            }
          },
          "base_uri": "https://localhost:8080/",
          "height": 905
        },
        "id": "uhKR03_p5RBm",
        "outputId": "af5cf4d2-215b-4bdf-c517-4ec5515d605d"
      },
      "source": [
        "%%html\n",
        "<!DOCTYPE html>\n",
        "<html>\n",
        "\n",
        "  <head>\n",
        "    <meta charset=\"utf-8\">\n",
        "    <title>Penn State Network Weathermaps</title>\n",
        "    <img src=\"ENCS_logo.png\" alt=\"ENCS Logo\">\n",
        "    <style>\n",
        "      body {\n",
        "        background-color:\n",
        "        margin: 10% 10%;\n",
        "        font-family: sans-serif;\n",
        "      }\n",
        "      h1 {\n",
        "        text-align: left;\n",
        "        font-family: serif;\n",
        "        font-weight: normal;\n",
        "        font-size: 40px;\n",
        "        text-transform: uppercase;\n",
        "        margin-top: 200px;\n",
        "        padding: 20px;\n",
        "        border-bottom: 2px solid #6495ED;\n",
        "      }\n",
        "      h3 {\n",
        "        font-family: serif;\n",
        "        padding: 20px;\n",
        "        font-size: 25px;\n",
        "      }\n",
        "      img {\n",
        "        display: block;\n",
        "        margin-left: auto;\n",
        "        margin-right: auto;\n",
        "        width: 50%\n",
        "      }\n",
        "    </style>\n",
        "  </head>\n",
        "\n",
        "  <body>\n",
        "    <h1>Penn State Network Weathermaps</h1>\n",
        "    <h3><a href=\"https://stats.npidev.psu.edu/weathermap/UEN-UP-dev.html\">Core Weathermap</a></h3>\n",
        "    <h3><a href=\"https://stats.npidev.psu.edu/weathermap/border-dev.html\">Border Weathermap</a></h3>\n",
        "    <h3><a href=\"https://stats.npidev.psu.edu/weathermap/Statewide-Southwest-dev.html\">Statewide West Weathermap</a></h3>\n",
        "    <h3><a href=\"https://stats.npidev.psu.edu/weathermap/Statewide-Central-dev.html\">Statewide Central Weathermap</a></h3>\n",
        "    <h3><a href=\"https://stats.npidev.psu.edu/weathermap/Statewide-Northeast-dev.html\">Statewide Northeast Weathermap</a></h3>\n",
        "    <h3><a href=\"https://stats.npidev.psu.edu/weathermap/Statewide-Southeast-dev.html\">Statewide Southeast Weathermap</a></h3>\n",
        "  </body>\n",
        "</html>"
      ],
      "execution_count": null,
      "outputs": [
        {
          "output_type": "display_data",
          "data": {
            "text/html": [
              "<!DOCTYPE html>\n",
              "<html>\n",
              "\n",
              "  <head>\n",
              "    <meta charset=\"utf-8\">\n",
              "    <title>Penn State Network Weathermaps</title>\n",
              "    <img src=\"ENCS_logo.png\" alt=\"ENCS Logo\">\n",
              "    <style>\n",
              "      body {\n",
              "        background-color:\n",
              "        margin: 10% 10%;\n",
              "        font-family: sans-serif;\n",
              "      }\n",
              "      h1 {\n",
              "        text-align: left;\n",
              "        font-family: serif;\n",
              "        font-weight: normal;\n",
              "        font-size: 40px;\n",
              "        text-transform: uppercase;\n",
              "        margin-top: 200px;\n",
              "        padding: 20px;\n",
              "        border-bottom: 2px solid #6495ED;\n",
              "      }\n",
              "      h3 {\n",
              "        font-family: serif;\n",
              "        padding: 20px;\n",
              "        font-size: 25px;\n",
              "      }\n",
              "      img {\n",
              "        display: block;\n",
              "        margin-left: auto;\n",
              "        margin-right: auto;\n",
              "        width: 50%\n",
              "      }\n",
              "    </style>\n",
              "  </head>\n",
              "\n",
              "  <body>\n",
              "    <h1>Penn State Network Weathermaps</h1>\n",
              "    <h3><a href=\"https://stats.npidev.psu.edu/weathermap/UEN-UP-dev.html\">Core Weathermap</a></h3>\n",
              "    <h3><a href=\"https://stats.npidev.psu.edu/weathermap/border-dev.html\">Border Weathermap</a></h3>\n",
              "    <h3><a href=\"https://stats.npidev.psu.edu/weathermap/Statewide-Southwest-dev.html\">Statewide West Weathermap</a></h3>\n",
              "    <h3><a href=\"https://stats.npidev.psu.edu/weathermap/Statewide-Central-dev.html\">Statewide Central Weathermap</a></h3>\n",
              "    <h3><a href=\"https://stats.npidev.psu.edu/weathermap/Statewide-Northeast-dev.html\">Statewide Northeast Weathermap</a></h3>\n",
              "    <h3><a href=\"https://stats.npidev.psu.edu/weathermap/Statewide-Southeast-dev.html\">Statewide Southeast Weathermap</a></h3>\n",
              "  </body>\n",
              "</html>"
            ],
            "text/plain": [
              "<IPython.core.display.HTML object>"
            ]
          },
          "metadata": {
            "tags": []
          }
        }
      ]
    }
  ]
}